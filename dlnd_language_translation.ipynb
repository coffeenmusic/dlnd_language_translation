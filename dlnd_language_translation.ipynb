{
 "cells": [
  {
   "cell_type": "markdown",
   "metadata": {
    "collapsed": true
   },
   "source": [
    "# Language Translation\n",
    "In this project, you’re going to take a peek into the realm of neural network machine translation.  You’ll be training a sequence to sequence model on a dataset of English and French sentences that can translate new sentences from English to French.\n",
    "## Get the Data\n",
    "Since translating the whole language of English to French will take lots of time to train, we have provided you with a small portion of the English corpus."
   ]
  },
  {
   "cell_type": "code",
   "execution_count": 4,
   "metadata": {
    "collapsed": true
   },
   "outputs": [],
   "source": [
    "\"\"\"\n",
    "DON'T MODIFY ANYTHING IN THIS CELL\n",
    "\"\"\"\n",
    "import helper\n",
    "import problem_unittests as tests\n",
    "\n",
    "source_path = 'data/small_vocab_en'\n",
    "target_path = 'data/small_vocab_fr'\n",
    "source_text = helper.load_data(source_path)\n",
    "target_text = helper.load_data(target_path)"
   ]
  },
  {
   "cell_type": "markdown",
   "metadata": {},
   "source": [
    "## Explore the Data\n",
    "Play around with view_sentence_range to view different parts of the data."
   ]
  },
  {
   "cell_type": "code",
   "execution_count": 6,
   "metadata": {
    "scrolled": true
   },
   "outputs": [
    {
     "name": "stdout",
     "output_type": "stream",
     "text": [
      "Dataset Stats\n",
      "Roughly the number of unique words: 227\n",
      "Number of sentences: 137861\n",
      "Average number of words in a sentence: 13.225277634719028\n",
      "\n",
      "English sentences 0 to 10:\n",
      "new jersey is sometimes quiet during autumn , and it is snowy in april .\n",
      "the united states is usually chilly during july , and it is usually freezing in november .\n",
      "california is usually quiet during march , and it is usually hot in june .\n",
      "the united states is sometimes mild during june , and it is cold in september .\n",
      "your least liked fruit is the grape , but my least liked is the apple .\n",
      "his favorite fruit is the orange , but my favorite is the grape .\n",
      "paris is relaxing during december , but it is usually chilly in july .\n",
      "new jersey is busy during spring , and it is never hot in march .\n",
      "our least liked fruit is the lemon , but my least liked is the grape .\n",
      "the united states is sometimes busy during january , and it is sometimes warm in november .\n",
      "\n",
      "French sentences 0 to 10:\n",
      "new jersey est parfois calme pendant l' automne , et il est neigeux en avril .\n",
      "les états-unis est généralement froid en juillet , et il gèle habituellement en novembre .\n",
      "california est généralement calme en mars , et il est généralement chaud en juin .\n",
      "les états-unis est parfois légère en juin , et il fait froid en septembre .\n",
      "votre moins aimé fruit est le raisin , mais mon moins aimé est la pomme .\n",
      "son fruit préféré est l'orange , mais mon préféré est le raisin .\n",
      "paris est relaxant en décembre , mais il est généralement froid en juillet .\n",
      "new jersey est occupé au printemps , et il est jamais chaude en mars .\n",
      "notre fruit est moins aimé le citron , mais mon moins aimé est le raisin .\n",
      "les états-unis est parfois occupé en janvier , et il est parfois chaud en novembre .\n"
     ]
    }
   ],
   "source": [
    "view_sentence_range = (0, 10)\n",
    "\n",
    "\"\"\"\n",
    "DON'T MODIFY ANYTHING IN THIS CELL\n",
    "\"\"\"\n",
    "import numpy as np\n",
    "\n",
    "print('Dataset Stats')\n",
    "print('Roughly the number of unique words: {}'.format(len(set(source_text.split()))))\n",
    "\n",
    "sentences = source_text.split('\\n')\n",
    "word_counts = [len(sentence.split()) for sentence in sentences]\n",
    "print('Number of sentences: {}'.format(len(sentences)))\n",
    "print('Average number of words in a sentence: {}'.format(np.average(word_counts)))\n",
    "\n",
    "print()\n",
    "print('English sentences {} to {}:'.format(*view_sentence_range))\n",
    "print('\\n'.join(source_text.split('\\n')[view_sentence_range[0]:view_sentence_range[1]]))\n",
    "print()\n",
    "print('French sentences {} to {}:'.format(*view_sentence_range))\n",
    "print('\\n'.join(target_text.split('\\n')[view_sentence_range[0]:view_sentence_range[1]]))"
   ]
  },
  {
   "cell_type": "markdown",
   "metadata": {},
   "source": [
    "## Implement Preprocessing Function\n",
    "### Text to Word Ids\n",
    "As you did with other RNNs, you must turn the text into a number so the computer can understand it. In the function `text_to_ids()`, you'll turn `source_text` and `target_text` from words to ids.  However, you need to add the `<EOS>` word id at the end of `target_text`.  This will help the neural network predict when the sentence should end.\n",
    "\n",
    "You can get the `<EOS>` word id by doing:\n",
    "```python\n",
    "target_vocab_to_int['<EOS>']\n",
    "```\n",
    "You can get other word ids using `source_vocab_to_int` and `target_vocab_to_int`."
   ]
  },
  {
   "cell_type": "code",
   "execution_count": 390,
   "metadata": {},
   "outputs": [
    {
     "name": "stdout",
     "output_type": "stream",
     "text": [
      "Tests Passed\n"
     ]
    }
   ],
   "source": [
    "def text_to_ids(source_text, target_text, source_vocab_to_int, target_vocab_to_int):\n",
    "    \"\"\"\n",
    "    Convert source and target text to proper word ids\n",
    "    :param source_text: String that contains all the source text.\n",
    "    :param target_text: String that contains all the target text.\n",
    "    :param source_vocab_to_int: Dictionary to go from the source words to an id\n",
    "    :param target_vocab_to_int: Dictionary to go from the target words to an id\n",
    "    :return: A tuple of lists (source_id_text, target_id_text)\n",
    "    \"\"\"\n",
    "    # TODO: Implement Function\n",
    "    source_id_text = [[source_vocab_to_int[word] for word in sentence.split()] for sentence in source_text.split('\\n')]\n",
    "    target_id_text = [[target_vocab_to_int[word] for word in (sentence+' <EOS> ').split()] for sentence in target_text.split('\\n')]\n",
    "    return source_id_text, target_id_text\n",
    "\n",
    "\"\"\"\n",
    "DON'T MODIFY ANYTHING IN THIS CELL THAT IS BELOW THIS LINE\n",
    "\"\"\"\n",
    "tests.test_text_to_ids(text_to_ids)"
   ]
  },
  {
   "cell_type": "markdown",
   "metadata": {},
   "source": [
    "### Preprocess all the data and save it\n",
    "Running the code cell below will preprocess all the data and save it to file."
   ]
  },
  {
   "cell_type": "code",
   "execution_count": 368,
   "metadata": {},
   "outputs": [],
   "source": [
    "\"\"\"\n",
    "DON'T MODIFY ANYTHING IN THIS CELL\n",
    "\"\"\"\n",
    "helper.preprocess_and_save_data(source_path, target_path, text_to_ids)"
   ]
  },
  {
   "cell_type": "markdown",
   "metadata": {},
   "source": [
    "# Check Point\n",
    "This is your first checkpoint. If you ever decide to come back to this notebook or have to restart the notebook, you can start from here. The preprocessed data has been saved to disk."
   ]
  },
  {
   "cell_type": "code",
   "execution_count": 369,
   "metadata": {
    "collapsed": true
   },
   "outputs": [],
   "source": [
    "\"\"\"\n",
    "DON'T MODIFY ANYTHING IN THIS CELL\n",
    "\"\"\"\n",
    "import numpy as np\n",
    "import helper\n",
    "\n",
    "(source_int_text, target_int_text), (source_vocab_to_int, target_vocab_to_int), _ = helper.load_preprocess()"
   ]
  },
  {
   "cell_type": "markdown",
   "metadata": {},
   "source": [
    "### Check the Version of TensorFlow and Access to GPU\n",
    "This will check to make sure you have the correct version of TensorFlow and access to a GPU"
   ]
  },
  {
   "cell_type": "code",
   "execution_count": 370,
   "metadata": {},
   "outputs": [
    {
     "name": "stdout",
     "output_type": "stream",
     "text": [
      "TensorFlow Version: 1.1.0\n",
      "Default GPU Device: /gpu:0\n"
     ]
    }
   ],
   "source": [
    "\"\"\"\n",
    "DON'T MODIFY ANYTHING IN THIS CELL\n",
    "\"\"\"\n",
    "from distutils.version import LooseVersion\n",
    "import warnings\n",
    "import tensorflow as tf\n",
    "from tensorflow.python.layers.core import Dense\n",
    "\n",
    "# Check TensorFlow Version\n",
    "assert LooseVersion(tf.__version__) >= LooseVersion('1.1'), 'Please use TensorFlow version 1.1 or newer'\n",
    "print('TensorFlow Version: {}'.format(tf.__version__))\n",
    "\n",
    "# Check for a GPU\n",
    "if not tf.test.gpu_device_name():\n",
    "    warnings.warn('No GPU found. Please use a GPU to train your neural network.')\n",
    "else:\n",
    "    print('Default GPU Device: {}'.format(tf.test.gpu_device_name()))"
   ]
  },
  {
   "cell_type": "markdown",
   "metadata": {},
   "source": [
    "## Build the Neural Network\n",
    "You'll build the components necessary to build a Sequence-to-Sequence model by implementing the following functions below:\n",
    "- `model_inputs`\n",
    "- `process_decoder_input`\n",
    "- `encoding_layer`\n",
    "- `decoding_layer_train`\n",
    "- `decoding_layer_infer`\n",
    "- `decoding_layer`\n",
    "- `seq2seq_model`\n",
    "\n",
    "### Input\n",
    "Implement the `model_inputs()` function to create TF Placeholders for the Neural Network. It should create the following placeholders:\n",
    "\n",
    "- Input text placeholder named \"input\" using the TF Placeholder name parameter with rank 2.\n",
    "- Targets placeholder with rank 2.\n",
    "- Learning rate placeholder with rank 0.\n",
    "- Keep probability placeholder named \"keep_prob\" using the TF Placeholder name parameter with rank 0.\n",
    "- Target sequence length placeholder named \"target_sequence_length\" with rank 1\n",
    "- Max target sequence length tensor named \"max_target_len\" getting its value from applying tf.reduce_max on the target_sequence_length placeholder. Rank 0.\n",
    "- Source sequence length placeholder named \"source_sequence_length\" with rank 1\n",
    "\n",
    "Return the placeholders in the following the tuple (input, targets, learning rate, keep probability, target sequence length, max target sequence length, source sequence length)"
   ]
  },
  {
   "cell_type": "code",
   "execution_count": 371,
   "metadata": {},
   "outputs": [
    {
     "name": "stdout",
     "output_type": "stream",
     "text": [
      "Tests Passed\n"
     ]
    }
   ],
   "source": [
    "def model_inputs():\n",
    "    \"\"\"\n",
    "    Create TF Placeholders for input, targets, learning rate, and lengths of source and target sequences.\n",
    "    :return: Tuple (input, targets, learning rate, keep probability, target sequence length,\n",
    "    max target sequence length, source sequence length)\n",
    "    \"\"\"\n",
    "    # TODO: Implement Function\n",
    "    inputs = tf.placeholder(tf.int32, [None, None], name='input')\n",
    "    targets = tf.placeholder(tf.int32, [None, None], name='targets')\n",
    "    learning_rate = tf.placeholder(tf.float32, name='learning_rate')\n",
    "    keep_prob = tf.placeholder(tf.float32, name='keep_prob')\n",
    "    target_seq_len = tf.placeholder(tf.int32, (None,), name='target_sequence_length')\n",
    "    max_target_len = tf.reduce_max(target_seq_len, name='max_target_len')\n",
    "    source_seq_len = tf.placeholder(tf.int32, (None,), name='source_sequence_length')\n",
    "    \n",
    "    return inputs, targets, learning_rate, keep_prob, target_seq_len, max_target_len, source_seq_len\n",
    "\n",
    "\n",
    "\"\"\"\n",
    "DON'T MODIFY ANYTHING IN THIS CELL THAT IS BELOW THIS LINE\n",
    "\"\"\"\n",
    "tests.test_model_inputs(model_inputs)"
   ]
  },
  {
   "cell_type": "markdown",
   "metadata": {},
   "source": [
    "### Process Decoder Input\n",
    "Implement `process_decoder_input` by removing the last word id from each batch in `target_data` and concat the GO ID to the begining of each batch."
   ]
  },
  {
   "cell_type": "code",
   "execution_count": 372,
   "metadata": {},
   "outputs": [
    {
     "name": "stdout",
     "output_type": "stream",
     "text": [
      "Tests Passed\n"
     ]
    }
   ],
   "source": [
    "def process_decoder_input(target_data, target_vocab_to_int, batch_size):\n",
    "    \"\"\"\n",
    "    Preprocess target data for encoding\n",
    "    :param target_data: Target Placehoder\n",
    "    :param target_vocab_to_int: Dictionary to go from the target words to an id\n",
    "    :param batch_size: Batch Size\n",
    "    :return: Preprocessed target data\n",
    "    \"\"\"\n",
    "    # TODO: Implement Function\n",
    "    ending = tf.strided_slice(target_data, [0, 0], [batch_size, -1], [1, 1]) # Slice off last timestep since it will never be used\n",
    "    dec_input = tf.concat([tf.fill([batch_size, 1], target_vocab_to_int['<GO>']), ending], 1) # create previous timestep (<GO>) to first output word prediction\n",
    "    return dec_input\n",
    "\n",
    "\"\"\"\n",
    "DON'T MODIFY ANYTHING IN THIS CELL THAT IS BELOW THIS LINE\n",
    "\"\"\"\n",
    "tests.test_process_encoding_input(process_decoder_input)"
   ]
  },
  {
   "cell_type": "markdown",
   "metadata": {},
   "source": [
    "### Encoding\n",
    "Implement `encoding_layer()` to create a Encoder RNN layer:\n",
    " * Embed the encoder input using [`tf.contrib.layers.embed_sequence`](https://www.tensorflow.org/api_docs/python/tf/contrib/layers/embed_sequence)\n",
    " * Construct a [stacked](https://github.com/tensorflow/tensorflow/blob/6947f65a374ebf29e74bb71e36fd82760056d82c/tensorflow/docs_src/tutorials/recurrent.md#stacking-multiple-lstms) [`tf.contrib.rnn.LSTMCell`](https://www.tensorflow.org/api_docs/python/tf/contrib/rnn/LSTMCell) wrapped in a [`tf.contrib.rnn.DropoutWrapper`](https://www.tensorflow.org/api_docs/python/tf/contrib/rnn/DropoutWrapper)\n",
    " * Pass cell and embedded input to [`tf.nn.dynamic_rnn()`](https://www.tensorflow.org/api_docs/python/tf/nn/dynamic_rnn)"
   ]
  },
  {
   "cell_type": "code",
   "execution_count": 396,
   "metadata": {
    "scrolled": false
   },
   "outputs": [
    {
     "name": "stdout",
     "output_type": "stream",
     "text": [
      "Tests Passed\n"
     ]
    }
   ],
   "source": [
    "from imp import reload\n",
    "reload(tests)\n",
    "\n",
    "def encoding_layer(rnn_inputs, rnn_size, num_layers, keep_prob, \n",
    "                   source_sequence_length, source_vocab_size, \n",
    "                   encoding_embedding_size):\n",
    "    \"\"\"\n",
    "    Create encoding layer\n",
    "    :param rnn_inputs: Inputs for the RNN\n",
    "    :param rnn_size: RNN Size\n",
    "    :param num_layers: Number of layers\n",
    "    :param keep_prob: Dropout keep probability\n",
    "    :param source_sequence_length: a list of the lengths of each sequence in the batch\n",
    "    :param source_vocab_size: vocabulary size of source data\n",
    "    :param encoding_embedding_size: embedding size of source data\n",
    "    :return: tuple (RNN output, RNN state)\n",
    "    \"\"\"\n",
    "    # TODO: Implement Function\n",
    "    embedded_encoder_input = tf.contrib.layers.embed_sequence(rnn_inputs, source_vocab_size, encoding_embedding_size)\n",
    "    # RNN cell\n",
    "    def make_cell(rnn_size):\n",
    "        lstm = tf.contrib.rnn.LSTMCell(rnn_size, initializer=tf.random_uniform_initializer(-0.1, 0.1, seed=2))\n",
    "        drop = tf.contrib.rnn.DropoutWrapper(lstm, output_keep_prob=keep_prob)\n",
    "        return drop\n",
    "    cell = tf.contrib.rnn.MultiRNNCell([make_cell(rnn_size) for _ in range(num_layers)])\n",
    "    rnn_out, rnn_state = tf.nn.dynamic_rnn(cell, embedded_encoder_input, sequence_length=source_sequence_length, dtype=tf.float32)\n",
    "    return rnn_out, rnn_state\n",
    "\n",
    "\"\"\"\n",
    "DON'T MODIFY ANYTHING IN THIS CELL THAT IS BELOW THIS LINE\n",
    "\"\"\"\n",
    "tests.test_encoding_layer(encoding_layer)"
   ]
  },
  {
   "cell_type": "markdown",
   "metadata": {},
   "source": [
    "### Decoding - Training\n",
    "Create a training decoding layer:\n",
    "* Create a [`tf.contrib.seq2seq.TrainingHelper`](https://www.tensorflow.org/api_docs/python/tf/contrib/seq2seq/TrainingHelper) \n",
    "* Create a [`tf.contrib.seq2seq.BasicDecoder`](https://www.tensorflow.org/api_docs/python/tf/contrib/seq2seq/BasicDecoder)\n",
    "* Obtain the decoder outputs from [`tf.contrib.seq2seq.dynamic_decode`](https://www.tensorflow.org/api_docs/python/tf/contrib/seq2seq/dynamic_decode)"
   ]
  },
  {
   "cell_type": "code",
   "execution_count": 397,
   "metadata": {},
   "outputs": [
    {
     "name": "stdout",
     "output_type": "stream",
     "text": [
      "Tests Passed\n"
     ]
    }
   ],
   "source": [
    "\n",
    "def decoding_layer_train(encoder_state, dec_cell, dec_embed_input, \n",
    "                         target_sequence_length, max_summary_length, \n",
    "                         output_layer, keep_prob):\n",
    "    \"\"\"\n",
    "    Create a decoding layer for training\n",
    "    :param encoder_state: Encoder State\n",
    "    :param dec_cell: Decoder RNN Cell\n",
    "    :param dec_embed_input: Decoder embedded input\n",
    "    :param target_sequence_length: The lengths of each sequence in the target batch\n",
    "    :param max_summary_length: The length of the longest sequence in the batch\n",
    "    :param output_layer: Function to apply the output layer\n",
    "    :param keep_prob: Dropout keep probability\n",
    "    :return: BasicDecoderOutput containing training logits and sample_id\n",
    "    \"\"\"\n",
    "    # TODO: Implement Function\n",
    "    train_helper = tf.contrib.seq2seq.TrainingHelper(inputs=dec_embed_input, sequence_length=target_sequence_length, time_major=False)\n",
    "    training_decoder = tf.contrib.seq2seq.BasicDecoder(dec_cell, train_helper, encoder_state, output_layer)\n",
    "    dec_outputs, _ = tf.contrib.seq2seq.dynamic_decode(training_decoder, impute_finished=True, maximum_iterations=max_summary_length)\n",
    "    return dec_outputs\n",
    "\n",
    "\n",
    "\n",
    "\"\"\"\n",
    "DON'T MODIFY ANYTHING IN THIS CELL THAT IS BELOW THIS LINE\n",
    "\"\"\"\n",
    "tests.test_decoding_layer_train(decoding_layer_train)"
   ]
  },
  {
   "cell_type": "markdown",
   "metadata": {},
   "source": [
    "### Decoding - Inference\n",
    "Create inference decoder:\n",
    "* Create a [`tf.contrib.seq2seq.GreedyEmbeddingHelper`](https://www.tensorflow.org/api_docs/python/tf/contrib/seq2seq/GreedyEmbeddingHelper)\n",
    "* Create a [`tf.contrib.seq2seq.BasicDecoder`](https://www.tensorflow.org/api_docs/python/tf/contrib/seq2seq/BasicDecoder)\n",
    "* Obtain the decoder outputs from [`tf.contrib.seq2seq.dynamic_decode`](https://www.tensorflow.org/api_docs/python/tf/contrib/seq2seq/dynamic_decode)"
   ]
  },
  {
   "cell_type": "code",
   "execution_count": 398,
   "metadata": {
    "scrolled": true
   },
   "outputs": [
    {
     "name": "stdout",
     "output_type": "stream",
     "text": [
      "Tests Passed\n"
     ]
    }
   ],
   "source": [
    "def decoding_layer_infer(encoder_state, dec_cell, dec_embeddings, start_of_sequence_id,\n",
    "                         end_of_sequence_id, max_target_sequence_length,\n",
    "                         vocab_size, output_layer, batch_size, keep_prob):\n",
    "    \"\"\"\n",
    "    Create a decoding layer for inference\n",
    "    :param encoder_state: Encoder state\n",
    "    :param dec_cell: Decoder RNN Cell\n",
    "    :param dec_embeddings: Decoder embeddings\n",
    "    :param start_of_sequence_id: GO ID\n",
    "    :param end_of_sequence_id: EOS Id\n",
    "    :param max_target_sequence_length: Maximum length of target sequences\n",
    "    :param vocab_size: Size of decoder/target vocabulary\n",
    "    :param decoding_scope: TenorFlow Variable Scope for decoding\n",
    "    :param output_layer: Function to apply the output layer\n",
    "    :param batch_size: Batch size\n",
    "    :param keep_prob: Dropout keep probability\n",
    "    :return: BasicDecoderOutput containing inference logits and sample_id\n",
    "    \"\"\"\n",
    "    # TODO: Implement Function\n",
    "    start_tokens = tf.tile(tf.constant([start_of_sequence_id], dtype=tf.int32), [batch_size], name='start_tokens')\n",
    "    \n",
    "    emb_helper = tf.contrib.seq2seq.GreedyEmbeddingHelper(dec_embeddings, start_tokens, end_of_sequence_id)\n",
    "    inference_decoder = tf.contrib.seq2seq.BasicDecoder(dec_cell, emb_helper, encoder_state, output_layer=output_layer)\n",
    "    dec_out, _ = tf.contrib.seq2seq.dynamic_decode(inference_decoder, impute_finished=True, maximum_iterations=max_target_sequence_length)\n",
    "    return dec_out\n",
    "\n",
    "\n",
    "\n",
    "\"\"\"\n",
    "DON'T MODIFY ANYTHING IN THIS CELL THAT IS BELOW THIS LINE\n",
    "\"\"\"\n",
    "tests.test_decoding_layer_infer(decoding_layer_infer)"
   ]
  },
  {
   "cell_type": "markdown",
   "metadata": {},
   "source": [
    "### Build the Decoding Layer\n",
    "Implement `decoding_layer()` to create a Decoder RNN layer.\n",
    "\n",
    "* Embed the target sequences\n",
    "* Construct the decoder LSTM cell (just like you constructed the encoder cell above)\n",
    "* Create an output layer to map the outputs of the decoder to the elements of our vocabulary\n",
    "* Use the your `decoding_layer_train(encoder_state, dec_cell, dec_embed_input, target_sequence_length, max_target_sequence_length, output_layer, keep_prob)` function to get the training logits.\n",
    "* Use your `decoding_layer_infer(encoder_state, dec_cell, dec_embeddings, start_of_sequence_id, end_of_sequence_id, max_target_sequence_length, vocab_size, output_layer, batch_size, keep_prob)` function to get the inference logits.\n",
    "\n",
    "Note: You'll need to use [tf.variable_scope](https://www.tensorflow.org/api_docs/python/tf/variable_scope) to share variables between training and inference."
   ]
  },
  {
   "cell_type": "code",
   "execution_count": 401,
   "metadata": {},
   "outputs": [
    {
     "name": "stdout",
     "output_type": "stream",
     "text": [
      "Tests Passed\n"
     ]
    }
   ],
   "source": [
    "def decoding_layer(dec_input, encoder_state,\n",
    "                   target_sequence_length, max_target_sequence_length,\n",
    "                   rnn_size,\n",
    "                   num_layers, target_vocab_to_int, target_vocab_size,\n",
    "                   batch_size, keep_prob, decoding_embedding_size):\n",
    "    \"\"\"\n",
    "    Create decoding layer\n",
    "    :param dec_input: Decoder input\n",
    "    :param encoder_state: Encoder state\n",
    "    :param target_sequence_length: The lengths of each sequence in the target batch\n",
    "    :param max_target_sequence_length: Maximum length of target sequences\n",
    "    :param rnn_size: RNN Size\n",
    "    :param num_layers: Number of layers\n",
    "    :param target_vocab_to_int: Dictionary to go from the target words to an id\n",
    "    :param target_vocab_size: Size of target vocabulary\n",
    "    :param batch_size: The size of the batch\n",
    "    :param keep_prob: Dropout keep probability\n",
    "    :return: Tuple of (Training BasicDecoderOutput, Inference BasicDecoderOutput)\n",
    "    \"\"\"\n",
    "    # TODO: Implement Function\n",
    "    dec_embeddings = tf.Variable(tf.random_uniform([target_vocab_size, decoding_embedding_size]))\n",
    "    dec_embed_input = tf.nn.embedding_lookup(dec_embeddings, dec_input)\n",
    "    \n",
    "    # RNN cell\n",
    "    def make_cell(rnn_size):\n",
    "        lstm = tf.contrib.rnn.LSTMCell(rnn_size, initializer=tf.random_uniform_initializer(-0.1, 0.1, seed=2))\n",
    "        drop = tf.contrib.rnn.DropoutWrapper(lstm, output_keep_prob=keep_prob)\n",
    "        return drop\n",
    "    cell = tf.contrib.rnn.MultiRNNCell([make_cell(rnn_size) for _ in range(num_layers)])\n",
    "    \n",
    "    output_layer = Dense(target_vocab_size, kernel_initializer = tf.truncated_normal_initializer(mean = 0.0, stddev=0.1))\n",
    "    \n",
    "    with tf.variable_scope(\"decode\") as decoding_scope:\n",
    "        train_dec_out = decoding_layer_train(encoder_state, \n",
    "                                             cell, \n",
    "                                             dec_embed_input, \n",
    "                                             target_sequence_length, \n",
    "                                             max_target_sequence_length, \n",
    "                                             output_layer, \n",
    "                                             keep_prob)\n",
    "    \n",
    "        decoding_scope.reuse_variables()\n",
    "        infer_dec_out = decoding_layer_infer(encoder_state, \n",
    "                                             cell, \n",
    "                                             dec_embeddings, \n",
    "                                             target_vocab_to_int['<GO>'], \n",
    "                                             target_vocab_to_int['<EOS>'], \n",
    "                                             max_target_sequence_length, \n",
    "                                             target_vocab_size, \n",
    "                                             output_layer, \n",
    "                                             batch_size, \n",
    "                                             keep_prob)\n",
    "    \n",
    "    return train_dec_out, infer_dec_out\n",
    "\n",
    "\n",
    "\n",
    "\"\"\"\n",
    "DON'T MODIFY ANYTHING IN THIS CELL THAT IS BELOW THIS LINE\n",
    "\"\"\"\n",
    "tests.test_decoding_layer(decoding_layer)"
   ]
  },
  {
   "cell_type": "markdown",
   "metadata": {},
   "source": [
    "### Build the Neural Network\n",
    "Apply the functions you implemented above to:\n",
    "\n",
    "- Apply embedding to the input data for the encoder.\n",
    "- Encode the input using your `encoding_layer(rnn_inputs, rnn_size, num_layers, keep_prob,  source_sequence_length, source_vocab_size, encoding_embedding_size)`.\n",
    "- Process target data using your `process_decoder_input(target_data, target_vocab_to_int, batch_size)` function.\n",
    "- Apply embedding to the target data for the decoder.\n",
    "- Decode the encoded input using your `decoding_layer(dec_input, enc_state, target_sequence_length, max_target_sentence_length, rnn_size, num_layers, target_vocab_to_int, target_vocab_size, batch_size, keep_prob, dec_embedding_size)` function."
   ]
  },
  {
   "cell_type": "code",
   "execution_count": 402,
   "metadata": {},
   "outputs": [
    {
     "name": "stdout",
     "output_type": "stream",
     "text": [
      "Tests Passed\n"
     ]
    }
   ],
   "source": [
    "def seq2seq_model(input_data, target_data, keep_prob, batch_size,\n",
    "                  source_sequence_length, target_sequence_length,\n",
    "                  max_target_sentence_length,\n",
    "                  source_vocab_size, target_vocab_size,\n",
    "                  enc_embedding_size, dec_embedding_size,\n",
    "                  rnn_size, num_layers, target_vocab_to_int):\n",
    "    \"\"\"\n",
    "    Build the Sequence-to-Sequence part of the neural network\n",
    "    :param input_data: Input placeholder\n",
    "    :param target_data: Target placeholder\n",
    "    :param keep_prob: Dropout keep probability placeholder\n",
    "    :param batch_size: Batch Size\n",
    "    :param source_sequence_length: Sequence Lengths of source sequences in the batch\n",
    "    :param target_sequence_length: Sequence Lengths of target sequences in the batch\n",
    "    :param source_vocab_size: Source vocabulary size\n",
    "    :param target_vocab_size: Target vocabulary size\n",
    "    :param enc_embedding_size: Decoder embedding size\n",
    "    :param dec_embedding_size: Encoder embedding size\n",
    "    :param rnn_size: RNN Size\n",
    "    :param num_layers: Number of layers\n",
    "    :param target_vocab_to_int: Dictionary to go from the target words to an id\n",
    "    :return: Tuple of (Training BasicDecoderOutput, Inference BasicDecoderOutput)\n",
    "    \"\"\"\n",
    "    # TODO: Implement Function\n",
    "    _, enc_state = encoding_layer(input_data, \n",
    "                                  rnn_size, \n",
    "                                  num_layers, \n",
    "                                  keep_prob,  \n",
    "                                  source_sequence_length, \n",
    "                                  source_vocab_size, \n",
    "                                  enc_embedding_size)\n",
    "    \n",
    "    dec_input = process_decoder_input(target_data, target_vocab_to_int, batch_size)\n",
    "    \n",
    "    train_dec_out, infer_dec_out = decoding_layer(dec_input, \n",
    "                                                  enc_state, \n",
    "                                                  target_sequence_length, \n",
    "                                                  max_target_sentence_length, \n",
    "                                                  rnn_size, \n",
    "                                                  num_layers, \n",
    "                                                  target_vocab_to_int, \n",
    "                                                  target_vocab_size, \n",
    "                                                  batch_size, \n",
    "                                                  keep_prob, \n",
    "                                                  dec_embedding_size)\n",
    "    return train_dec_out, infer_dec_out\n",
    "\n",
    "\n",
    "\"\"\"\n",
    "DON'T MODIFY ANYTHING IN THIS CELL THAT IS BELOW THIS LINE\n",
    "\"\"\"\n",
    "tests.test_seq2seq_model(seq2seq_model)"
   ]
  },
  {
   "cell_type": "markdown",
   "metadata": {},
   "source": [
    "## Neural Network Training\n",
    "### Hyperparameters\n",
    "Tune the following parameters:\n",
    "\n",
    "- Set `epochs` to the number of epochs.\n",
    "- Set `batch_size` to the batch size.\n",
    "- Set `rnn_size` to the size of the RNNs.\n",
    "- Set `num_layers` to the number of layers.\n",
    "- Set `encoding_embedding_size` to the size of the embedding for the encoder.\n",
    "- Set `decoding_embedding_size` to the size of the embedding for the decoder.\n",
    "- Set `learning_rate` to the learning rate.\n",
    "- Set `keep_probability` to the Dropout keep probability\n",
    "- Set `display_step` to state how many steps between each debug output statement"
   ]
  },
  {
   "cell_type": "code",
   "execution_count": 403,
   "metadata": {
    "collapsed": true
   },
   "outputs": [],
   "source": [
    "# Number of Epochs\n",
    "epochs = 10\n",
    "# Batch Size\n",
    "batch_size = 512\n",
    "# RNN Size\n",
    "rnn_size = 256\n",
    "# Number of Layers\n",
    "num_layers = 2\n",
    "# Embedding Size\n",
    "encoding_embedding_size = 128\n",
    "decoding_embedding_size = 128\n",
    "# Learning Rate\n",
    "learning_rate = .001\n",
    "# Dropout Keep Probability\n",
    "keep_probability = 0.5\n",
    "display_step = 20"
   ]
  },
  {
   "cell_type": "markdown",
   "metadata": {},
   "source": [
    "### Build the Graph\n",
    "Build the graph using the neural network you implemented."
   ]
  },
  {
   "cell_type": "code",
   "execution_count": 404,
   "metadata": {},
   "outputs": [],
   "source": [
    "\"\"\"\n",
    "DON'T MODIFY ANYTHING IN THIS CELL\n",
    "\"\"\"\n",
    "save_path = 'checkpoints/dev'\n",
    "(source_int_text, target_int_text), (source_vocab_to_int, target_vocab_to_int), _ = helper.load_preprocess()\n",
    "max_target_sentence_length = max([len(sentence) for sentence in source_int_text])\n",
    "\n",
    "train_graph = tf.Graph()\n",
    "with train_graph.as_default():\n",
    "    input_data, targets, lr, keep_prob, target_sequence_length, max_target_sequence_length, source_sequence_length = model_inputs()\n",
    "\n",
    "    #sequence_length = tf.placeholder_with_default(max_target_sentence_length, None, name='sequence_length')\n",
    "    input_shape = tf.shape(input_data)\n",
    "\n",
    "    train_logits, inference_logits = seq2seq_model(tf.reverse(input_data, [-1]),\n",
    "                                                   targets,\n",
    "                                                   keep_prob,\n",
    "                                                   batch_size,\n",
    "                                                   source_sequence_length,\n",
    "                                                   target_sequence_length,\n",
    "                                                   max_target_sequence_length,\n",
    "                                                   len(source_vocab_to_int),\n",
    "                                                   len(target_vocab_to_int),\n",
    "                                                   encoding_embedding_size,\n",
    "                                                   decoding_embedding_size,\n",
    "                                                   rnn_size,\n",
    "                                                   num_layers,\n",
    "                                                   target_vocab_to_int)\n",
    "\n",
    "\n",
    "    training_logits = tf.identity(train_logits.rnn_output, name='logits')\n",
    "    inference_logits = tf.identity(inference_logits.sample_id, name='predictions')\n",
    "\n",
    "    masks = tf.sequence_mask(target_sequence_length, max_target_sequence_length, dtype=tf.float32, name='masks')\n",
    "\n",
    "    with tf.name_scope(\"optimization\"):\n",
    "        # Loss function\n",
    "        cost = tf.contrib.seq2seq.sequence_loss(\n",
    "            training_logits,\n",
    "            targets,\n",
    "            masks)\n",
    "\n",
    "        # Optimizer\n",
    "        optimizer = tf.train.AdamOptimizer(lr)\n",
    "\n",
    "        # Gradient Clipping\n",
    "        gradients = optimizer.compute_gradients(cost)\n",
    "        capped_gradients = [(tf.clip_by_value(grad, -1., 1.), var) for grad, var in gradients if grad is not None]\n",
    "        train_op = optimizer.apply_gradients(capped_gradients)\n"
   ]
  },
  {
   "cell_type": "markdown",
   "metadata": {},
   "source": [
    "Batch and pad the source and target sequences"
   ]
  },
  {
   "cell_type": "code",
   "execution_count": 405,
   "metadata": {
    "collapsed": true
   },
   "outputs": [],
   "source": [
    "\"\"\"\n",
    "DON'T MODIFY ANYTHING IN THIS CELL\n",
    "\"\"\"\n",
    "def pad_sentence_batch(sentence_batch, pad_int):\n",
    "    \"\"\"Pad sentences with <PAD> so that each sentence of a batch has the same length\"\"\"\n",
    "    max_sentence = max([len(sentence) for sentence in sentence_batch])\n",
    "    return [sentence + [pad_int] * (max_sentence - len(sentence)) for sentence in sentence_batch]\n",
    "\n",
    "\n",
    "def get_batches(sources, targets, batch_size, source_pad_int, target_pad_int):\n",
    "    \"\"\"Batch targets, sources, and the lengths of their sentences together\"\"\"\n",
    "    for batch_i in range(0, len(sources)//batch_size):\n",
    "        start_i = batch_i * batch_size\n",
    "\n",
    "        # Slice the right amount for the batch\n",
    "        sources_batch = sources[start_i:start_i + batch_size]\n",
    "        targets_batch = targets[start_i:start_i + batch_size]\n",
    "\n",
    "        # Pad\n",
    "        pad_sources_batch = np.array(pad_sentence_batch(sources_batch, source_pad_int))\n",
    "        pad_targets_batch = np.array(pad_sentence_batch(targets_batch, target_pad_int))\n",
    "\n",
    "        # Need the lengths for the _lengths parameters\n",
    "        pad_targets_lengths = []\n",
    "        for target in pad_targets_batch:\n",
    "            pad_targets_lengths.append(len(target))\n",
    "\n",
    "        pad_source_lengths = []\n",
    "        for source in pad_sources_batch:\n",
    "            pad_source_lengths.append(len(source))\n",
    "\n",
    "        yield pad_sources_batch, pad_targets_batch, pad_source_lengths, pad_targets_lengths\n"
   ]
  },
  {
   "cell_type": "markdown",
   "metadata": {},
   "source": [
    "### Train\n",
    "Train the neural network on the preprocessed data. If you have a hard time getting a good loss, check the forms to see if anyone is having the same problem."
   ]
  },
  {
   "cell_type": "code",
   "execution_count": 406,
   "metadata": {
    "scrolled": true
   },
   "outputs": [
    {
     "name": "stdout",
     "output_type": "stream",
     "text": [
      "Epoch   0 Batch   20/269 - Train Accuracy: 0.3676, Validation Accuracy: 0.4213, Loss: 3.1160\n",
      "Epoch   0 Batch   40/269 - Train Accuracy: 0.4413, Validation Accuracy: 0.4918, Loss: 2.6268\n",
      "Epoch   0 Batch   60/269 - Train Accuracy: 0.5051, Validation Accuracy: 0.5182, Loss: 2.0895\n",
      "Epoch   0 Batch   80/269 - Train Accuracy: 0.5074, Validation Accuracy: 0.5205, Loss: 1.8693\n",
      "Epoch   0 Batch  100/269 - Train Accuracy: 0.4985, Validation Accuracy: 0.5028, Loss: 1.6675\n",
      "Epoch   0 Batch  120/269 - Train Accuracy: 0.4586, Validation Accuracy: 0.5076, Loss: 1.6160\n",
      "Epoch   0 Batch  140/269 - Train Accuracy: 0.5060, Validation Accuracy: 0.5277, Loss: 1.4487\n",
      "Epoch   0 Batch  160/269 - Train Accuracy: 0.5036, Validation Accuracy: 0.5268, Loss: 1.3217\n",
      "Epoch   0 Batch  180/269 - Train Accuracy: 0.5216, Validation Accuracy: 0.5273, Loss: 1.1967\n",
      "Epoch   0 Batch  200/269 - Train Accuracy: 0.5068, Validation Accuracy: 0.5319, Loss: 1.1490\n",
      "Epoch   0 Batch  220/269 - Train Accuracy: 0.5679, Validation Accuracy: 0.5715, Loss: 0.9817\n",
      "Epoch   0 Batch  240/269 - Train Accuracy: 0.6127, Validation Accuracy: 0.5823, Loss: 0.8790\n",
      "Epoch   0 Batch  260/269 - Train Accuracy: 0.5713, Validation Accuracy: 0.5898, Loss: 0.9419\n",
      "Epoch   1 Batch   20/269 - Train Accuracy: 0.5843, Validation Accuracy: 0.5980, Loss: 0.8656\n",
      "Epoch   1 Batch   40/269 - Train Accuracy: 0.5916, Validation Accuracy: 0.6104, Loss: 0.8245\n",
      "Epoch   1 Batch   60/269 - Train Accuracy: 0.6146, Validation Accuracy: 0.6107, Loss: 0.7211\n",
      "Epoch   1 Batch   80/269 - Train Accuracy: 0.6188, Validation Accuracy: 0.6153, Loss: 0.7333\n",
      "Epoch   1 Batch  100/269 - Train Accuracy: 0.6348, Validation Accuracy: 0.6142, Loss: 0.6970\n",
      "Epoch   1 Batch  120/269 - Train Accuracy: 0.6059, Validation Accuracy: 0.6142, Loss: 0.6998\n",
      "Epoch   1 Batch  140/269 - Train Accuracy: 0.6195, Validation Accuracy: 0.6167, Loss: 0.6637\n",
      "Epoch   1 Batch  160/269 - Train Accuracy: 0.6316, Validation Accuracy: 0.6358, Loss: 0.6313\n",
      "Epoch   1 Batch  180/269 - Train Accuracy: 0.6539, Validation Accuracy: 0.6467, Loss: 0.6025\n",
      "Epoch   1 Batch  200/269 - Train Accuracy: 0.6450, Validation Accuracy: 0.6604, Loss: 0.5990\n",
      "Epoch   1 Batch  220/269 - Train Accuracy: 0.6845, Validation Accuracy: 0.6760, Loss: 0.5307\n",
      "Epoch   1 Batch  240/269 - Train Accuracy: 0.7020, Validation Accuracy: 0.6810, Loss: 0.4787\n",
      "Epoch   1 Batch  260/269 - Train Accuracy: 0.6766, Validation Accuracy: 0.6896, Loss: 0.5266\n",
      "Epoch   2 Batch   20/269 - Train Accuracy: 0.6900, Validation Accuracy: 0.6977, Loss: 0.4954\n",
      "Epoch   2 Batch   40/269 - Train Accuracy: 0.6936, Validation Accuracy: 0.7008, Loss: 0.4700\n",
      "Epoch   2 Batch   60/269 - Train Accuracy: 0.7315, Validation Accuracy: 0.7118, Loss: 0.4107\n",
      "Epoch   2 Batch   80/269 - Train Accuracy: 0.7456, Validation Accuracy: 0.7136, Loss: 0.4121\n",
      "Epoch   2 Batch  100/269 - Train Accuracy: 0.7678, Validation Accuracy: 0.7335, Loss: 0.4004\n",
      "Epoch   2 Batch  120/269 - Train Accuracy: 0.7438, Validation Accuracy: 0.7464, Loss: 0.3907\n",
      "Epoch   2 Batch  140/269 - Train Accuracy: 0.7540, Validation Accuracy: 0.7579, Loss: 0.3777\n",
      "Epoch   2 Batch  160/269 - Train Accuracy: 0.7819, Validation Accuracy: 0.7719, Loss: 0.3562\n",
      "Epoch   2 Batch  180/269 - Train Accuracy: 0.8087, Validation Accuracy: 0.7874, Loss: 0.3282\n",
      "Epoch   2 Batch  200/269 - Train Accuracy: 0.7827, Validation Accuracy: 0.7778, Loss: 0.3185\n",
      "Epoch   2 Batch  220/269 - Train Accuracy: 0.8291, Validation Accuracy: 0.8260, Loss: 0.2804\n",
      "Epoch   2 Batch  240/269 - Train Accuracy: 0.8477, Validation Accuracy: 0.8303, Loss: 0.2628\n",
      "Epoch   2 Batch  260/269 - Train Accuracy: 0.8323, Validation Accuracy: 0.8488, Loss: 0.2750\n",
      "Epoch   3 Batch   20/269 - Train Accuracy: 0.8420, Validation Accuracy: 0.8536, Loss: 0.2471\n",
      "Epoch   3 Batch   40/269 - Train Accuracy: 0.8618, Validation Accuracy: 0.8571, Loss: 0.2352\n",
      "Epoch   3 Batch   60/269 - Train Accuracy: 0.8796, Validation Accuracy: 0.8714, Loss: 0.1919\n",
      "Epoch   3 Batch   80/269 - Train Accuracy: 0.8860, Validation Accuracy: 0.8667, Loss: 0.1920\n",
      "Epoch   3 Batch  100/269 - Train Accuracy: 0.8925, Validation Accuracy: 0.8640, Loss: 0.1940\n",
      "Epoch   3 Batch  120/269 - Train Accuracy: 0.8879, Validation Accuracy: 0.8662, Loss: 0.1846\n",
      "Epoch   3 Batch  140/269 - Train Accuracy: 0.8797, Validation Accuracy: 0.8726, Loss: 0.1831\n",
      "Epoch   3 Batch  160/269 - Train Accuracy: 0.8899, Validation Accuracy: 0.8849, Loss: 0.1673\n",
      "Epoch   3 Batch  180/269 - Train Accuracy: 0.8955, Validation Accuracy: 0.8855, Loss: 0.1632\n",
      "Epoch   3 Batch  200/269 - Train Accuracy: 0.8874, Validation Accuracy: 0.8829, Loss: 0.1555\n",
      "Epoch   3 Batch  220/269 - Train Accuracy: 0.9078, Validation Accuracy: 0.8917, Loss: 0.1372\n",
      "Epoch   3 Batch  240/269 - Train Accuracy: 0.9039, Validation Accuracy: 0.8929, Loss: 0.1320\n",
      "Epoch   3 Batch  260/269 - Train Accuracy: 0.8793, Validation Accuracy: 0.8977, Loss: 0.1473\n",
      "Epoch   4 Batch   20/269 - Train Accuracy: 0.8984, Validation Accuracy: 0.9014, Loss: 0.1278\n",
      "Epoch   4 Batch   40/269 - Train Accuracy: 0.8862, Validation Accuracy: 0.8928, Loss: 0.1308\n",
      "Epoch   4 Batch   60/269 - Train Accuracy: 0.9068, Validation Accuracy: 0.8968, Loss: 0.1068\n",
      "Epoch   4 Batch   80/269 - Train Accuracy: 0.9089, Validation Accuracy: 0.9091, Loss: 0.1169\n",
      "Epoch   4 Batch  100/269 - Train Accuracy: 0.9163, Validation Accuracy: 0.9037, Loss: 0.1164\n",
      "Epoch   4 Batch  120/269 - Train Accuracy: 0.9177, Validation Accuracy: 0.9086, Loss: 0.1126\n",
      "Epoch   4 Batch  140/269 - Train Accuracy: 0.9085, Validation Accuracy: 0.9074, Loss: 0.1123\n",
      "Epoch   4 Batch  160/269 - Train Accuracy: 0.9123, Validation Accuracy: 0.9162, Loss: 0.1064\n",
      "Epoch   4 Batch  180/269 - Train Accuracy: 0.9177, Validation Accuracy: 0.9161, Loss: 0.1010\n",
      "Epoch   4 Batch  200/269 - Train Accuracy: 0.9021, Validation Accuracy: 0.9069, Loss: 0.1014\n",
      "Epoch   4 Batch  220/269 - Train Accuracy: 0.9197, Validation Accuracy: 0.9230, Loss: 0.0894\n",
      "Epoch   4 Batch  240/269 - Train Accuracy: 0.9175, Validation Accuracy: 0.9148, Loss: 0.0876\n",
      "Epoch   4 Batch  260/269 - Train Accuracy: 0.9168, Validation Accuracy: 0.9260, Loss: 0.0986\n",
      "Epoch   5 Batch   20/269 - Train Accuracy: 0.9190, Validation Accuracy: 0.9251, Loss: 0.0873\n",
      "Epoch   5 Batch   40/269 - Train Accuracy: 0.9053, Validation Accuracy: 0.9213, Loss: 0.0918\n",
      "Epoch   5 Batch   60/269 - Train Accuracy: 0.9262, Validation Accuracy: 0.9258, Loss: 0.0785\n",
      "Epoch   5 Batch   80/269 - Train Accuracy: 0.9212, Validation Accuracy: 0.9259, Loss: 0.0818\n",
      "Epoch   5 Batch  100/269 - Train Accuracy: 0.9290, Validation Accuracy: 0.9228, Loss: 0.0812\n",
      "Epoch   5 Batch  120/269 - Train Accuracy: 0.9310, Validation Accuracy: 0.9261, Loss: 0.0825\n",
      "Epoch   5 Batch  140/269 - Train Accuracy: 0.9183, Validation Accuracy: 0.9261, Loss: 0.0878\n",
      "Epoch   5 Batch  160/269 - Train Accuracy: 0.9209, Validation Accuracy: 0.9241, Loss: 0.0762\n",
      "Epoch   5 Batch  180/269 - Train Accuracy: 0.9284, Validation Accuracy: 0.9316, Loss: 0.0764\n",
      "Epoch   5 Batch  200/269 - Train Accuracy: 0.9080, Validation Accuracy: 0.9340, Loss: 0.0764\n",
      "Epoch   5 Batch  220/269 - Train Accuracy: 0.9284, Validation Accuracy: 0.9307, Loss: 0.0692\n",
      "Epoch   5 Batch  240/269 - Train Accuracy: 0.9349, Validation Accuracy: 0.9342, Loss: 0.0684\n",
      "Epoch   5 Batch  260/269 - Train Accuracy: 0.9262, Validation Accuracy: 0.9434, Loss: 0.0740\n",
      "Epoch   6 Batch   20/269 - Train Accuracy: 0.9364, Validation Accuracy: 0.9353, Loss: 0.0678\n",
      "Epoch   6 Batch   40/269 - Train Accuracy: 0.9225, Validation Accuracy: 0.9308, Loss: 0.0747\n",
      "Epoch   6 Batch   60/269 - Train Accuracy: 0.9402, Validation Accuracy: 0.9432, Loss: 0.0678\n",
      "Epoch   6 Batch   80/269 - Train Accuracy: 0.9282, Validation Accuracy: 0.9376, Loss: 0.0658\n",
      "Epoch   6 Batch  100/269 - Train Accuracy: 0.9397, Validation Accuracy: 0.9431, Loss: 0.0651\n",
      "Epoch   6 Batch  120/269 - Train Accuracy: 0.9404, Validation Accuracy: 0.9423, Loss: 0.0669\n",
      "Epoch   6 Batch  140/269 - Train Accuracy: 0.9274, Validation Accuracy: 0.9421, Loss: 0.0707\n",
      "Epoch   6 Batch  160/269 - Train Accuracy: 0.9288, Validation Accuracy: 0.9359, Loss: 0.0576\n",
      "Epoch   6 Batch  180/269 - Train Accuracy: 0.9420, Validation Accuracy: 0.9406, Loss: 0.0593\n",
      "Epoch   6 Batch  200/269 - Train Accuracy: 0.9250, Validation Accuracy: 0.9437, Loss: 0.0592\n",
      "Epoch   6 Batch  220/269 - Train Accuracy: 0.9381, Validation Accuracy: 0.9377, Loss: 0.0566\n"
     ]
    },
    {
     "name": "stdout",
     "output_type": "stream",
     "text": [
      "Epoch   6 Batch  240/269 - Train Accuracy: 0.9396, Validation Accuracy: 0.9429, Loss: 0.0591\n",
      "Epoch   6 Batch  260/269 - Train Accuracy: 0.9285, Validation Accuracy: 0.9274, Loss: 0.0671\n",
      "Epoch   7 Batch   20/269 - Train Accuracy: 0.9438, Validation Accuracy: 0.9469, Loss: 0.0568\n",
      "Epoch   7 Batch   40/269 - Train Accuracy: 0.9261, Validation Accuracy: 0.9445, Loss: 0.0623\n",
      "Epoch   7 Batch   60/269 - Train Accuracy: 0.9360, Validation Accuracy: 0.9319, Loss: 0.0703\n",
      "Epoch   7 Batch   80/269 - Train Accuracy: 0.9352, Validation Accuracy: 0.9364, Loss: 0.0593\n",
      "Epoch   7 Batch  100/269 - Train Accuracy: 0.9450, Validation Accuracy: 0.9478, Loss: 0.0559\n",
      "Epoch   7 Batch  120/269 - Train Accuracy: 0.9512, Validation Accuracy: 0.9464, Loss: 0.0558\n",
      "Epoch   7 Batch  140/269 - Train Accuracy: 0.9336, Validation Accuracy: 0.9524, Loss: 0.0611\n",
      "Epoch   7 Batch  160/269 - Train Accuracy: 0.9302, Validation Accuracy: 0.9494, Loss: 0.0512\n",
      "Epoch   7 Batch  180/269 - Train Accuracy: 0.9534, Validation Accuracy: 0.9529, Loss: 0.0512\n",
      "Epoch   7 Batch  200/269 - Train Accuracy: 0.9317, Validation Accuracy: 0.9488, Loss: 0.0515\n",
      "Epoch   7 Batch  220/269 - Train Accuracy: 0.9428, Validation Accuracy: 0.9447, Loss: 0.0481\n",
      "Epoch   7 Batch  240/269 - Train Accuracy: 0.9494, Validation Accuracy: 0.9517, Loss: 0.0470\n",
      "Epoch   7 Batch  260/269 - Train Accuracy: 0.9438, Validation Accuracy: 0.9520, Loss: 0.0535\n",
      "Epoch   8 Batch   20/269 - Train Accuracy: 0.9519, Validation Accuracy: 0.9442, Loss: 0.0453\n",
      "Epoch   8 Batch   40/269 - Train Accuracy: 0.9483, Validation Accuracy: 0.9542, Loss: 0.0494\n",
      "Epoch   8 Batch   60/269 - Train Accuracy: 0.9583, Validation Accuracy: 0.9537, Loss: 0.0472\n",
      "Epoch   8 Batch   80/269 - Train Accuracy: 0.9449, Validation Accuracy: 0.9561, Loss: 0.0449\n",
      "Epoch   8 Batch  100/269 - Train Accuracy: 0.9514, Validation Accuracy: 0.9460, Loss: 0.0481\n",
      "Epoch   8 Batch  120/269 - Train Accuracy: 0.9534, Validation Accuracy: 0.9537, Loss: 0.0462\n",
      "Epoch   8 Batch  140/269 - Train Accuracy: 0.9428, Validation Accuracy: 0.9538, Loss: 0.0509\n",
      "Epoch   8 Batch  160/269 - Train Accuracy: 0.9372, Validation Accuracy: 0.9512, Loss: 0.0439\n",
      "Epoch   8 Batch  180/269 - Train Accuracy: 0.9624, Validation Accuracy: 0.9563, Loss: 0.0426\n",
      "Epoch   8 Batch  200/269 - Train Accuracy: 0.9421, Validation Accuracy: 0.9525, Loss: 0.0430\n",
      "Epoch   8 Batch  220/269 - Train Accuracy: 0.9501, Validation Accuracy: 0.9510, Loss: 0.0421\n",
      "Epoch   8 Batch  240/269 - Train Accuracy: 0.9534, Validation Accuracy: 0.9529, Loss: 0.0416\n",
      "Epoch   8 Batch  260/269 - Train Accuracy: 0.9528, Validation Accuracy: 0.9517, Loss: 0.0470\n",
      "Epoch   9 Batch   20/269 - Train Accuracy: 0.9567, Validation Accuracy: 0.9521, Loss: 0.0402\n",
      "Epoch   9 Batch   40/269 - Train Accuracy: 0.9560, Validation Accuracy: 0.9600, Loss: 0.0437\n",
      "Epoch   9 Batch   60/269 - Train Accuracy: 0.9626, Validation Accuracy: 0.9603, Loss: 0.0393\n",
      "Epoch   9 Batch   80/269 - Train Accuracy: 0.9525, Validation Accuracy: 0.9536, Loss: 0.0419\n",
      "Epoch   9 Batch  100/269 - Train Accuracy: 0.9550, Validation Accuracy: 0.9565, Loss: 0.0457\n",
      "Epoch   9 Batch  120/269 - Train Accuracy: 0.9509, Validation Accuracy: 0.9560, Loss: 0.0418\n",
      "Epoch   9 Batch  140/269 - Train Accuracy: 0.9564, Validation Accuracy: 0.9569, Loss: 0.0451\n",
      "Epoch   9 Batch  160/269 - Train Accuracy: 0.9512, Validation Accuracy: 0.9616, Loss: 0.0388\n",
      "Epoch   9 Batch  180/269 - Train Accuracy: 0.9643, Validation Accuracy: 0.9609, Loss: 0.0395\n",
      "Epoch   9 Batch  200/269 - Train Accuracy: 0.9507, Validation Accuracy: 0.9633, Loss: 0.0380\n",
      "Epoch   9 Batch  220/269 - Train Accuracy: 0.9561, Validation Accuracy: 0.9624, Loss: 0.0387\n",
      "Epoch   9 Batch  240/269 - Train Accuracy: 0.9660, Validation Accuracy: 0.9582, Loss: 0.0349\n",
      "Epoch   9 Batch  260/269 - Train Accuracy: 0.9590, Validation Accuracy: 0.9533, Loss: 0.0397\n",
      "Model Trained and Saved\n"
     ]
    }
   ],
   "source": [
    "\"\"\"\n",
    "DON'T MODIFY ANYTHING IN THIS CELL\n",
    "\"\"\"\n",
    "def get_accuracy(target, logits):\n",
    "    \"\"\"\n",
    "    Calculate accuracy\n",
    "    \"\"\"\n",
    "    max_seq = max(target.shape[1], logits.shape[1])\n",
    "    if max_seq - target.shape[1]:\n",
    "        target = np.pad(\n",
    "            target,\n",
    "            [(0,0),(0,max_seq - target.shape[1])],\n",
    "            'constant')\n",
    "    if max_seq - logits.shape[1]:\n",
    "        logits = np.pad(\n",
    "            logits,\n",
    "            [(0,0),(0,max_seq - logits.shape[1])],\n",
    "            'constant')\n",
    "\n",
    "    return np.mean(np.equal(target, logits))\n",
    "\n",
    "# Split data to training and validation sets\n",
    "train_source = source_int_text[batch_size:]\n",
    "train_target = target_int_text[batch_size:]\n",
    "valid_source = source_int_text[:batch_size]\n",
    "valid_target = target_int_text[:batch_size]\n",
    "(valid_sources_batch, valid_targets_batch, valid_sources_lengths, valid_targets_lengths ) = next(get_batches(valid_source,\n",
    "                                                                                                             valid_target,\n",
    "                                                                                                             batch_size,\n",
    "                                                                                                             source_vocab_to_int['<PAD>'],\n",
    "                                                                                                             target_vocab_to_int['<PAD>']))                                                                                                  \n",
    "with tf.Session(graph=train_graph) as sess:\n",
    "    sess.run(tf.global_variables_initializer())\n",
    "\n",
    "    for epoch_i in range(epochs):\n",
    "        for batch_i, (source_batch, target_batch, sources_lengths, targets_lengths) in enumerate(\n",
    "                get_batches(train_source, train_target, batch_size,\n",
    "                            source_vocab_to_int['<PAD>'],\n",
    "                            target_vocab_to_int['<PAD>'])):\n",
    "\n",
    "            _, loss = sess.run(\n",
    "                [train_op, cost],\n",
    "                {input_data: source_batch,\n",
    "                 targets: target_batch,\n",
    "                 lr: learning_rate,\n",
    "                 target_sequence_length: targets_lengths,\n",
    "                 source_sequence_length: sources_lengths,\n",
    "                 keep_prob: keep_probability})\n",
    "\n",
    "\n",
    "            if batch_i % display_step == 0 and batch_i > 0:\n",
    "\n",
    "\n",
    "                batch_train_logits = sess.run(\n",
    "                    inference_logits,\n",
    "                    {input_data: source_batch,\n",
    "                     source_sequence_length: sources_lengths,\n",
    "                     target_sequence_length: targets_lengths,\n",
    "                     keep_prob: 1.0})\n",
    "\n",
    "\n",
    "                batch_valid_logits = sess.run(\n",
    "                    inference_logits,\n",
    "                    {input_data: valid_sources_batch,\n",
    "                     source_sequence_length: valid_sources_lengths,\n",
    "                     target_sequence_length: valid_targets_lengths,\n",
    "                     keep_prob: 1.0})\n",
    "\n",
    "                train_acc = get_accuracy(target_batch, batch_train_logits)\n",
    "\n",
    "                valid_acc = get_accuracy(valid_targets_batch, batch_valid_logits)\n",
    "\n",
    "                print('Epoch {:>3} Batch {:>4}/{} - Train Accuracy: {:>6.4f}, Validation Accuracy: {:>6.4f}, Loss: {:>6.4f}'\n",
    "                      .format(epoch_i, batch_i, len(source_int_text) // batch_size, train_acc, valid_acc, loss))\n",
    "\n",
    "    # Save Model\n",
    "    saver = tf.train.Saver()\n",
    "    saver.save(sess, save_path)\n",
    "    print('Model Trained and Saved')"
   ]
  },
  {
   "cell_type": "markdown",
   "metadata": {},
   "source": [
    "### Save Parameters\n",
    "Save the `batch_size` and `save_path` parameters for inference."
   ]
  },
  {
   "cell_type": "code",
   "execution_count": 407,
   "metadata": {
    "collapsed": true
   },
   "outputs": [],
   "source": [
    "\"\"\"\n",
    "DON'T MODIFY ANYTHING IN THIS CELL\n",
    "\"\"\"\n",
    "# Save parameters for checkpoint\n",
    "helper.save_params(save_path)"
   ]
  },
  {
   "cell_type": "markdown",
   "metadata": {},
   "source": [
    "# Checkpoint"
   ]
  },
  {
   "cell_type": "code",
   "execution_count": 408,
   "metadata": {
    "collapsed": true
   },
   "outputs": [],
   "source": [
    "\"\"\"\n",
    "DON'T MODIFY ANYTHING IN THIS CELL\n",
    "\"\"\"\n",
    "import tensorflow as tf\n",
    "import numpy as np\n",
    "import helper\n",
    "import problem_unittests as tests\n",
    "\n",
    "_, (source_vocab_to_int, target_vocab_to_int), (source_int_to_vocab, target_int_to_vocab) = helper.load_preprocess()\n",
    "load_path = helper.load_params()"
   ]
  },
  {
   "cell_type": "markdown",
   "metadata": {},
   "source": [
    "## Sentence to Sequence\n",
    "To feed a sentence into the model for translation, you first need to preprocess it.  Implement the function `sentence_to_seq()` to preprocess new sentences.\n",
    "\n",
    "- Convert the sentence to lowercase\n",
    "- Convert words into ids using `vocab_to_int`\n",
    " - Convert words not in the vocabulary, to the `<UNK>` word id."
   ]
  },
  {
   "cell_type": "code",
   "execution_count": 409,
   "metadata": {},
   "outputs": [
    {
     "name": "stdout",
     "output_type": "stream",
     "text": [
      "Tests Passed\n"
     ]
    }
   ],
   "source": [
    "def sentence_to_seq(sentence, vocab_to_int):\n",
    "    \"\"\"\n",
    "    Convert a sentence to a sequence of ids\n",
    "    :param sentence: String\n",
    "    :param vocab_to_int: Dictionary to go from the words to an id\n",
    "    :return: List of word ids\n",
    "    \"\"\"\n",
    "    # TODO: Implement Function\n",
    "    sentence = sentence.lower()\n",
    "    sentence_ids = [vocab_to_int[word] if word in vocab_to_int.keys() else vocab_to_int['<UNK>'] for word in sentence.lower().split() ]\n",
    "    return sentence_ids\n",
    "\n",
    "\n",
    "\"\"\"\n",
    "DON'T MODIFY ANYTHING IN THIS CELL THAT IS BELOW THIS LINE\n",
    "\"\"\"\n",
    "tests.test_sentence_to_seq(sentence_to_seq)"
   ]
  },
  {
   "cell_type": "markdown",
   "metadata": {},
   "source": [
    "## Translate\n",
    "This will translate `translate_sentence` from English to French."
   ]
  },
  {
   "cell_type": "code",
   "execution_count": 410,
   "metadata": {
    "scrolled": true
   },
   "outputs": [
    {
     "name": "stdout",
     "output_type": "stream",
     "text": [
      "INFO:tensorflow:Restoring parameters from checkpoints/dev\n",
      "Input\n",
      "  Word Ids:      [40, 51, 81, 143, 75, 10, 53]\n",
      "  English Words: ['he', 'saw', 'a', 'old', 'yellow', 'truck', '.']\n",
      "\n",
      "Prediction\n",
      "  Word Ids:      [191, 216, 91, 310, 101, 258, 297, 197, 1]\n",
      "  French Words: il a vu le vieux camion jaune . <EOS>\n"
     ]
    }
   ],
   "source": [
    "translate_sentence = 'he saw a old yellow truck .'\n",
    "\n",
    "\n",
    "\"\"\"\n",
    "DON'T MODIFY ANYTHING IN THIS CELL\n",
    "\"\"\"\n",
    "translate_sentence = sentence_to_seq(translate_sentence, source_vocab_to_int)\n",
    "\n",
    "loaded_graph = tf.Graph()\n",
    "with tf.Session(graph=loaded_graph) as sess:\n",
    "    # Load saved model\n",
    "    loader = tf.train.import_meta_graph(load_path + '.meta')\n",
    "    loader.restore(sess, load_path)\n",
    "\n",
    "    input_data = loaded_graph.get_tensor_by_name('input:0')\n",
    "    logits = loaded_graph.get_tensor_by_name('predictions:0')\n",
    "    target_sequence_length = loaded_graph.get_tensor_by_name('target_sequence_length:0')\n",
    "    source_sequence_length = loaded_graph.get_tensor_by_name('source_sequence_length:0')\n",
    "    keep_prob = loaded_graph.get_tensor_by_name('keep_prob:0')\n",
    "\n",
    "    translate_logits = sess.run(logits, {input_data: [translate_sentence]*batch_size,\n",
    "                                         target_sequence_length: [len(translate_sentence)*2]*batch_size,\n",
    "                                         source_sequence_length: [len(translate_sentence)]*batch_size,\n",
    "                                         keep_prob: 1.0})[0]\n",
    "\n",
    "print('Input')\n",
    "print('  Word Ids:      {}'.format([i for i in translate_sentence]))\n",
    "print('  English Words: {}'.format([source_int_to_vocab[i] for i in translate_sentence]))\n",
    "\n",
    "print('\\nPrediction')\n",
    "print('  Word Ids:      {}'.format([i for i in translate_logits]))\n",
    "print('  French Words: {}'.format(\" \".join([target_int_to_vocab[i] for i in translate_logits])))\n"
   ]
  },
  {
   "cell_type": "markdown",
   "metadata": {},
   "source": [
    "## Imperfect Translation\n",
    "You might notice that some sentences translate better than others.  Since the dataset you're using only has a vocabulary of 227 English words of the thousands that you use, you're only going to see good results using these words.  For this project, you don't need a perfect translation. However, if you want to create a better translation model, you'll need better data.\n",
    "\n",
    "You can train on the [WMT10 French-English corpus](http://www.statmt.org/wmt10/training-giga-fren.tar).  This dataset has more vocabulary and richer in topics discussed.  However, this will take you days to train, so make sure you've a GPU and the neural network is performing well on dataset we provided.  Just make sure you play with the WMT10 corpus after you've submitted this project.\n",
    "## Submitting This Project\n",
    "When submitting this project, make sure to run all the cells before saving the notebook. Save the notebook file as \"dlnd_language_translation.ipynb\" and save it as a HTML file under \"File\" -> \"Download as\". Include the \"helper.py\" and \"problem_unittests.py\" files in your submission."
   ]
  }
 ],
 "metadata": {
  "anaconda-cloud": {},
  "kernelspec": {
   "display_name": "Python 3",
   "language": "python",
   "name": "python3"
  },
  "language_info": {
   "codemirror_mode": {
    "name": "ipython",
    "version": 3
   },
   "file_extension": ".py",
   "mimetype": "text/x-python",
   "name": "python",
   "nbconvert_exporter": "python",
   "pygments_lexer": "ipython3",
   "version": "3.5.3"
  }
 },
 "nbformat": 4,
 "nbformat_minor": 1
}
